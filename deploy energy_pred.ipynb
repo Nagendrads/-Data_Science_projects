{
 "cells": [
  {
   "cell_type": "markdown",
   "id": "108318b7",
   "metadata": {},
   "source": [
    "# Creating a Energy Production Prediction web aap wtih streamlit"
   ]
  },
  {
   "cell_type": "markdown",
   "id": "4547f525",
   "metadata": {},
   "source": [
    "##### importing libraries"
   ]
  },
  {
   "cell_type": "code",
   "execution_count": 1,
   "id": "cdd7af0b",
   "metadata": {},
   "outputs": [],
   "source": [
    "import streamlit as st\n",
    "import pandas as pd\n",
    "import numpy as np\n",
    "import matplotlib.pyplot as plt\n",
    "import pickle\n",
    "from pickle import load"
   ]
  },
  {
   "cell_type": "markdown",
   "id": "4d2f0e33",
   "metadata": {},
   "source": [
    "##### Creating a title"
   ]
  },
  {
   "cell_type": "code",
   "execution_count": 2,
   "id": "850848ff",
   "metadata": {},
   "outputs": [
    {
     "name": "stderr",
     "output_type": "stream",
     "text": [
      "2024-01-05 14:34:59.675 \n",
      "  \u001b[33m\u001b[1mWarning:\u001b[0m to view this Streamlit app on a browser, run it with the following\n",
      "  command:\n",
      "\n",
      "    streamlit run C:\\Users\\Admin\\anaconda3\\Lib\\site-packages\\ipykernel_launcher.py [ARGUMENTS]\n"
     ]
    },
    {
     "data": {
      "text/plain": [
       "DeltaGenerator()"
      ]
     },
     "execution_count": 2,
     "metadata": {},
     "output_type": "execute_result"
    }
   ],
   "source": [
    "st.title('_WELCOME_')\n",
    "st.title('_Energy_Production_Prediction_')"
   ]
  },
  {
   "cell_type": "code",
   "execution_count": 3,
   "id": "ba605606",
   "metadata": {},
   "outputs": [
    {
     "data": {
      "text/plain": [
       "DeltaGenerator(_root_container=1, _parent=DeltaGenerator())"
      ]
     },
     "execution_count": 3,
     "metadata": {},
     "output_type": "execute_result"
    }
   ],
   "source": [
    "st.sidebar.header('User Input Values')"
   ]
  },
  {
   "cell_type": "markdown",
   "id": "e3c48e49",
   "metadata": {},
   "source": [
    "##### Creating a DataFrame with User Input Values"
   ]
  },
  {
   "cell_type": "code",
   "execution_count": 4,
   "id": "a400bba8",
   "metadata": {},
   "outputs": [],
   "source": [
    "temparature = st.radio('Select your Temparature format:',('celsius','forgenheat'))\n",
    "if(temparature == 'celsius'):\n",
    "    temparature = st.number_input('Enter celsius Value')\n",
    "else:\n",
    "    temparature = st.number_input('Enter forgenheat value')\n",
    "def user_inputs():\n",
    "    Temparature = temparature #st.sidebar.number_input(\"Enter Temparature value\")\n",
    "    Exhaustvacuum = st.sidebar.number_input(\"Enter Vaccum value\")\n",
    "    Ambitiant = st.sidebar.number_input(\"Enter Ambitiant pressure\")\n",
    "    Humidity = st.sidebar.number_input(\"Enter Relative Humidity\")\n",
    "    \n",
    "    data = {'temperature': Temparature,\n",
    "            'exhaust_vacuum' : Exhaustvacuum,\n",
    "            'amb_pressure' : Ambitiant,\n",
    "            'r_humidity' : Humidity\n",
    "           }\n",
    "    features = pd.DataFrame(data, index = [0])\n",
    "    return features"
   ]
  },
  {
   "cell_type": "code",
   "execution_count": 5,
   "id": "839cc55f",
   "metadata": {},
   "outputs": [],
   "source": [
    "df = user_inputs()"
   ]
  },
  {
   "cell_type": "code",
   "execution_count": 6,
   "id": "8de2bd4e",
   "metadata": {},
   "outputs": [],
   "source": [
    "# importing libraries\n",
    "from sklearn.ensemble import BaggingRegressor\n",
    "from sklearn.metrics import mean_squared_error,mean_absolute_error,r2_score"
   ]
  },
  {
   "cell_type": "code",
   "execution_count": 7,
   "id": "8c1cd193",
   "metadata": {},
   "outputs": [],
   "source": [
    "model = load(open(r\"C:\\Users\\Admin\\Downloads\\bagging_model.pkl\",'rb'))"
   ]
  },
  {
   "cell_type": "markdown",
   "id": "cbff6350",
   "metadata": {},
   "source": [
    "##### predictions on user input data"
   ]
  },
  {
   "cell_type": "code",
   "execution_count": 8,
   "id": "25c8294d",
   "metadata": {},
   "outputs": [],
   "source": [
    "prediction = model.predict(df)"
   ]
  },
  {
   "cell_type": "code",
   "execution_count": 9,
   "id": "e7f86b23",
   "metadata": {},
   "outputs": [],
   "source": [
    "# Creating a submit button \n",
    "\n",
    "if(st.button('Submit')):\n",
    "    results = prediction\n",
    "    st.write(\"Energy Production: \",results)\n",
    "   #scores = st.success(model.score(df, prediction))"
   ]
  }
 ],
 "metadata": {
  "kernelspec": {
   "display_name": "Python 3 (ipykernel)",
   "language": "python",
   "name": "python3"
  },
  "language_info": {
   "codemirror_mode": {
    "name": "ipython",
    "version": 3
   },
   "file_extension": ".py",
   "mimetype": "text/x-python",
   "name": "python",
   "nbconvert_exporter": "python",
   "pygments_lexer": "ipython3",
   "version": "3.11.5"
  }
 },
 "nbformat": 4,
 "nbformat_minor": 5
}
