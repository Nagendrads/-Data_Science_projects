{
 "cells": [
  {
   "cell_type": "markdown",
   "id": "a48f06cc",
   "metadata": {},
   "source": [
    "# Deployment part"
   ]
  },
  {
   "cell_type": "code",
   "execution_count": 1,
   "id": "ca001a2c",
   "metadata": {},
   "outputs": [],
   "source": [
    "import streamlit as st\n",
    "import pandas as pd"
   ]
  },
  {
   "cell_type": "code",
   "execution_count": 2,
   "id": "0895b2a3",
   "metadata": {},
   "outputs": [],
   "source": [
    "st.set_page_config(layout='wide',page_title='Global Development Clustering Analysis')\n",
    "#st.title('Global Development Clustering Analysis')\n",
    "df=pd.read_csv(\"C:\\\\Users\\Admin\\Downloads\\\\Clustered_ World_Development_Data.csv\",index_col=0)"
   ]
  },
  {
   "cell_type": "code",
   "execution_count": 3,
   "id": "5dc27975",
   "metadata": {},
   "outputs": [],
   "source": [
    "data=df.copy()"
   ]
  },
  {
   "cell_type": "code",
   "execution_count": 4,
   "id": "66d1c751",
   "metadata": {},
   "outputs": [],
   "source": [
    "df=df.drop(columns='cluster')"
   ]
  },
  {
   "cell_type": "code",
   "execution_count": 5,
   "id": "f97108cc",
   "metadata": {},
   "outputs": [
    {
     "name": "stderr",
     "output_type": "stream",
     "text": [
      "2023-12-07 20:27:52.216 \n",
      "  \u001b[33m\u001b[1mWarning:\u001b[0m to view this Streamlit app on a browser, run it with the following\n",
      "  command:\n",
      "\n",
      "    streamlit run C:\\Users\\Admin\\anaconda3\\Lib\\site-packages\\ipykernel_launcher.py [ARGUMENTS]\n"
     ]
    }
   ],
   "source": [
    "def load_country_analysis(country):\n",
    " # load the information of contry\n",
    "    country_data = df[df['country']==country]\n",
    "    st.subheader('Country data')\n",
    "    st.write(f\"Analysis for {country}\")\n",
    "    st.dataframe(country_data)\n",
    "def similar_country_data(similar_country):\n",
    "    similar_country_data = data[data['cluster']==similar_country]\n",
    "    st.subheader('Similar_country_data')\n",
    "    st.dataframe(similar_country_data)\n",
    "st.sidebar.title('Analysis')\n",
    "\n",
    "option = st.sidebar.selectbox('Select One',['country Analysis','Similarity'])\n",
    "if option== 'country Analysis':\n",
    "    country=st.sidebar.selectbox('Select country',df['country'])\n",
    "    btn1 = st.sidebar.button('Find country Details')\n",
    "    # st.title('country Analysis')\n",
    "    if btn1:\n",
    "        load_country_analysis(country)\n",
    "\n",
    "else:\n",
    "    \n",
    "    st.title('similar country Analysis')\n",
    "    similar_country=st.sidebar.selectbox('Select country options',data['cluster'].drop_duplicates())\n",
    "    btn2=st.sidebar.button('Find similar country development')\n",
    "    if btn2:\n",
    "        similar_country_data(similar_country)"
   ]
  },
  {
   "cell_type": "code",
   "execution_count": null,
   "id": "7bc52c93",
   "metadata": {},
   "outputs": [],
   "source": []
  },
  {
   "cell_type": "code",
   "execution_count": null,
   "id": "873e3479",
   "metadata": {},
   "outputs": [],
   "source": []
  },
  {
   "cell_type": "code",
   "execution_count": null,
   "id": "142fb4cd",
   "metadata": {},
   "outputs": [],
   "source": []
  }
 ],
 "metadata": {
  "kernelspec": {
   "display_name": "Python 3 (ipykernel)",
   "language": "python",
   "name": "python3"
  },
  "language_info": {
   "codemirror_mode": {
    "name": "ipython",
    "version": 3
   },
   "file_extension": ".py",
   "mimetype": "text/x-python",
   "name": "python",
   "nbconvert_exporter": "python",
   "pygments_lexer": "ipython3",
   "version": "3.11.5"
  }
 },
 "nbformat": 4,
 "nbformat_minor": 5
}
